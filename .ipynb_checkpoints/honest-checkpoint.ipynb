{
 "cells": [
  {
   "cell_type": "code",
   "execution_count": 41,
   "id": "d0eb4f16-5a99-460d-a5ba-706b7ef0bbe7",
   "metadata": {
    "id": "bA5ajAmk7XH6"
   },
   "outputs": [],
   "source": [
    "\n",
    "%run 'Scripts/startup.py'\n",
    "%config IPCompleter.use_jedi = False\n",
    "#%load_ext autoreload\n",
    "%matplotlib inline\n",
    "%config IPCompleter.greedy = True\n",
    "\n"
   ]
  },
  {
   "cell_type": "code",
   "execution_count": 42,
   "id": "8ff7a58c-484d-487a-a752-090a8558605c",
   "metadata": {
    "tags": []
   },
   "outputs": [],
   "source": [
    "sns.set_style()\n",
    "sns.set_palette('colorblind')"
   ]
  },
  {
   "cell_type": "code",
   "execution_count": 43,
   "id": "1fe866a8-8171-4360-a000-14f4664cdaef",
   "metadata": {
    "tags": []
   },
   "outputs": [],
   "source": [
    "%%capture\n",
    "pd.set_option('display.max_colwidth', None)\n",
    "pd.set_option('display.max_rows', None)\n",
    "warnings.filterwarnings('ignore')\n",
    "%xmode minimal"
   ]
  },
  {
   "cell_type": "code",
   "execution_count": 44,
   "id": "f5e08d6a-a2f8-41b2-8843-669c5c69180b",
   "metadata": {},
   "outputs": [],
   "source": [
    "%%capture\n",
    "!pip install shroomdk\n",
    "%run 'Scripts/query_flipside.py'"
   ]
  },
  {
   "cell_type": "code",
   "execution_count": 45,
   "id": "163bcb68-2689-4c7e-be47-6eca69d4cb72",
   "metadata": {},
   "outputs": [
    {
     "data": {
      "text/html": [
       "<div>\n",
       "<style scoped>\n",
       "    .dataframe tbody tr th:only-of-type {\n",
       "        vertical-align: middle;\n",
       "    }\n",
       "\n",
       "    .dataframe tbody tr th {\n",
       "        vertical-align: top;\n",
       "    }\n",
       "\n",
       "    .dataframe thead th {\n",
       "        text-align: right;\n",
       "    }\n",
       "</style>\n",
       "<table border=\"1\" class=\"dataframe\">\n",
       "  <thead>\n",
       "    <tr style=\"text-align: right;\">\n",
       "      <th></th>\n",
       "      <th>max(block_timestamp)</th>\n",
       "    </tr>\n",
       "  </thead>\n",
       "  <tbody>\n",
       "    <tr>\n",
       "      <th>0</th>\n",
       "      <td>2022-09-17 21:05:35.000</td>\n",
       "    </tr>\n",
       "  </tbody>\n",
       "</table>\n",
       "</div>"
      ],
      "text/plain": [
       "      max(block_timestamp)\n",
       "0  2022-09-17 21:05:35.000"
      ]
     },
     "execution_count": 45,
     "metadata": {},
     "output_type": "execute_result"
    }
   ],
   "source": [
    "# insert sql query here\n",
    "sql = \"select max(block_timestamp)from ethereum.core.fact_blocks\"\n",
    "query_flipside(sql)"
   ]
  },
  {
   "cell_type": "code",
   "execution_count": null,
   "id": "67e403b6-60e5-4f6c-866a-533a27565c9d",
   "metadata": {},
   "outputs": [],
   "source": []
  }
 ],
 "metadata": {
  "colab": {
   "name": "Welcome to DataCamp Workspaces.ipynb",
   "provenance": []
  },
  "kernelspec": {
   "display_name": "Python 3 (ipykernel)",
   "language": "python",
   "name": "python3"
  },
  "language_info": {
   "codemirror_mode": {
    "name": "ipython",
    "version": 3
   },
   "file_extension": ".py",
   "mimetype": "text/x-python",
   "name": "python",
   "nbconvert_exporter": "python",
   "pygments_lexer": "ipython3",
   "version": "3.10.4"
  }
 },
 "nbformat": 4,
 "nbformat_minor": 5
}
